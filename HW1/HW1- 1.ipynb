{
 "cells": [
  {
   "cell_type": "markdown",
   "id": "7ddd327a",
   "metadata": {},
   "source": [
    "1.b  Take the sampregdata and build a linear regression model with scikit-learn, using the 1 X\n",
    "that fits the best. Put the model and the data in a proper organization."
   ]
  },
  {
   "cell_type": "code",
   "execution_count": 2,
   "id": "5e12f484",
   "metadata": {},
   "outputs": [],
   "source": [
    "import pandas as pd\n",
    "import numpy as np\n",
    "import matplotlib.pyplot as plt\n",
    "import seaborn as sns\n",
    "from sklearn.model_selection import train_test_split\n",
    "from sklearn.linear_model import LinearRegression\n",
    "from sklearn.metrics import mean_squared_error, r2_score\n",
    "import joblib\n"
   ]
  },
  {
   "cell_type": "code",
   "execution_count": 3,
   "id": "6f225a3b",
   "metadata": {},
   "outputs": [],
   "source": [
    "# Load dataset\n",
    "file_path = \"sampregdata.csv\"  \n",
    "df = pd.read_csv(file_path)"
   ]
  },
  {
   "cell_type": "code",
   "execution_count": 4,
   "id": "17fe8beb",
   "metadata": {},
   "outputs": [
    {
     "name": "stdout",
     "output_type": "stream",
     "text": [
      "<class 'pandas.core.frame.DataFrame'>\n",
      "RangeIndex: 5394 entries, 0 to 5393\n",
      "Data columns (total 6 columns):\n",
      " #   Column      Non-Null Count  Dtype  \n",
      "---  ------      --------------  -----  \n",
      " 0   Unnamed: 0  5394 non-null   int64  \n",
      " 1   x1          5394 non-null   float64\n",
      " 2   x2          5394 non-null   float64\n",
      " 3   x3          5394 non-null   float64\n",
      " 4   x4          5394 non-null   float64\n",
      " 5   y           5394 non-null   float64\n",
      "dtypes: float64(5), int64(1)\n",
      "memory usage: 253.0 KB\n"
     ]
    },
    {
     "data": {
      "text/plain": [
       "None"
      ]
     },
     "metadata": {},
     "output_type": "display_data"
    }
   ],
   "source": [
    "display(df.info())"
   ]
  },
  {
   "cell_type": "code",
   "execution_count": 5,
   "id": "0a72a8cc",
   "metadata": {},
   "outputs": [
    {
     "data": {
      "text/html": [
       "<div>\n",
       "<style scoped>\n",
       "    .dataframe tbody tr th:only-of-type {\n",
       "        vertical-align: middle;\n",
       "    }\n",
       "\n",
       "    .dataframe tbody tr th {\n",
       "        vertical-align: top;\n",
       "    }\n",
       "\n",
       "    .dataframe thead th {\n",
       "        text-align: right;\n",
       "    }\n",
       "</style>\n",
       "<table border=\"1\" class=\"dataframe\">\n",
       "  <thead>\n",
       "    <tr style=\"text-align: right;\">\n",
       "      <th></th>\n",
       "      <th>Unnamed: 0</th>\n",
       "      <th>x1</th>\n",
       "      <th>x2</th>\n",
       "      <th>x3</th>\n",
       "      <th>x4</th>\n",
       "      <th>y</th>\n",
       "    </tr>\n",
       "  </thead>\n",
       "  <tbody>\n",
       "    <tr>\n",
       "      <th>count</th>\n",
       "      <td>5394.000000</td>\n",
       "      <td>5394.000000</td>\n",
       "      <td>5394.000000</td>\n",
       "      <td>5394.000000</td>\n",
       "      <td>5394.000000</td>\n",
       "      <td>5394.000000</td>\n",
       "    </tr>\n",
       "    <tr>\n",
       "      <th>mean</th>\n",
       "      <td>2697.500000</td>\n",
       "      <td>12.021683</td>\n",
       "      <td>8.167434</td>\n",
       "      <td>7.574040</td>\n",
       "      <td>3.591243</td>\n",
       "      <td>4.353384</td>\n",
       "    </tr>\n",
       "    <tr>\n",
       "      <th>std</th>\n",
       "      <td>1557.258007</td>\n",
       "      <td>5.868268</td>\n",
       "      <td>6.232803</td>\n",
       "      <td>9.368097</td>\n",
       "      <td>4.588720</td>\n",
       "      <td>10.714636</td>\n",
       "    </tr>\n",
       "    <tr>\n",
       "      <th>min</th>\n",
       "      <td>1.000000</td>\n",
       "      <td>-12.026544</td>\n",
       "      <td>-16.040464</td>\n",
       "      <td>-26.311984</td>\n",
       "      <td>-12.455868</td>\n",
       "      <td>-34.466644</td>\n",
       "    </tr>\n",
       "    <tr>\n",
       "      <th>25%</th>\n",
       "      <td>1349.250000</td>\n",
       "      <td>8.168341</td>\n",
       "      <td>3.971380</td>\n",
       "      <td>1.452189</td>\n",
       "      <td>0.403797</td>\n",
       "      <td>-2.885133</td>\n",
       "    </tr>\n",
       "    <tr>\n",
       "      <th>50%</th>\n",
       "      <td>2697.500000</td>\n",
       "      <td>12.022236</td>\n",
       "      <td>8.210973</td>\n",
       "      <td>7.645897</td>\n",
       "      <td>3.564580</td>\n",
       "      <td>4.563703</td>\n",
       "    </tr>\n",
       "    <tr>\n",
       "      <th>75%</th>\n",
       "      <td>4045.750000</td>\n",
       "      <td>15.923815</td>\n",
       "      <td>12.306448</td>\n",
       "      <td>13.914808</td>\n",
       "      <td>6.784039</td>\n",
       "      <td>11.482432</td>\n",
       "    </tr>\n",
       "    <tr>\n",
       "      <th>max</th>\n",
       "      <td>5394.000000</td>\n",
       "      <td>31.833649</td>\n",
       "      <td>30.542882</td>\n",
       "      <td>39.652579</td>\n",
       "      <td>19.165572</td>\n",
       "      <td>45.056655</td>\n",
       "    </tr>\n",
       "  </tbody>\n",
       "</table>\n",
       "</div>"
      ],
      "text/plain": [
       "        Unnamed: 0           x1           x2           x3           x4  \\\n",
       "count  5394.000000  5394.000000  5394.000000  5394.000000  5394.000000   \n",
       "mean   2697.500000    12.021683     8.167434     7.574040     3.591243   \n",
       "std    1557.258007     5.868268     6.232803     9.368097     4.588720   \n",
       "min       1.000000   -12.026544   -16.040464   -26.311984   -12.455868   \n",
       "25%    1349.250000     8.168341     3.971380     1.452189     0.403797   \n",
       "50%    2697.500000    12.022236     8.210973     7.645897     3.564580   \n",
       "75%    4045.750000    15.923815    12.306448    13.914808     6.784039   \n",
       "max    5394.000000    31.833649    30.542882    39.652579    19.165572   \n",
       "\n",
       "                 y  \n",
       "count  5394.000000  \n",
       "mean      4.353384  \n",
       "std      10.714636  \n",
       "min     -34.466644  \n",
       "25%      -2.885133  \n",
       "50%       4.563703  \n",
       "75%      11.482432  \n",
       "max      45.056655  "
      ]
     },
     "metadata": {},
     "output_type": "display_data"
    }
   ],
   "source": [
    "display(df.describe())"
   ]
  },
  {
   "cell_type": "code",
   "execution_count": 6,
   "id": "a38efa78",
   "metadata": {},
   "outputs": [
    {
     "data": {
      "text/html": [
       "<div>\n",
       "<style scoped>\n",
       "    .dataframe tbody tr th:only-of-type {\n",
       "        vertical-align: middle;\n",
       "    }\n",
       "\n",
       "    .dataframe tbody tr th {\n",
       "        vertical-align: top;\n",
       "    }\n",
       "\n",
       "    .dataframe thead th {\n",
       "        text-align: right;\n",
       "    }\n",
       "</style>\n",
       "<table border=\"1\" class=\"dataframe\">\n",
       "  <thead>\n",
       "    <tr style=\"text-align: right;\">\n",
       "      <th></th>\n",
       "      <th>Unnamed: 0</th>\n",
       "      <th>x1</th>\n",
       "      <th>x2</th>\n",
       "      <th>x3</th>\n",
       "      <th>x4</th>\n",
       "      <th>y</th>\n",
       "    </tr>\n",
       "  </thead>\n",
       "  <tbody>\n",
       "    <tr>\n",
       "      <th>0</th>\n",
       "      <td>1</td>\n",
       "      <td>7.331693</td>\n",
       "      <td>9.660958</td>\n",
       "      <td>-2.981869</td>\n",
       "      <td>5.214284</td>\n",
       "      <td>-2.311878</td>\n",
       "    </tr>\n",
       "    <tr>\n",
       "      <th>1</th>\n",
       "      <td>2</td>\n",
       "      <td>16.888609</td>\n",
       "      <td>9.546231</td>\n",
       "      <td>18.440459</td>\n",
       "      <td>11.804018</td>\n",
       "      <td>0.994307</td>\n",
       "    </tr>\n",
       "    <tr>\n",
       "      <th>2</th>\n",
       "      <td>3</td>\n",
       "      <td>8.280643</td>\n",
       "      <td>6.442062</td>\n",
       "      <td>-0.225791</td>\n",
       "      <td>6.493211</td>\n",
       "      <td>-5.253876</td>\n",
       "    </tr>\n",
       "    <tr>\n",
       "      <th>3</th>\n",
       "      <td>4</td>\n",
       "      <td>3.827778</td>\n",
       "      <td>3.741506</td>\n",
       "      <td>-2.850664</td>\n",
       "      <td>-0.226420</td>\n",
       "      <td>20.056798</td>\n",
       "    </tr>\n",
       "    <tr>\n",
       "      <th>4</th>\n",
       "      <td>5</td>\n",
       "      <td>9.675971</td>\n",
       "      <td>4.385008</td>\n",
       "      <td>8.344576</td>\n",
       "      <td>5.979043</td>\n",
       "      <td>9.577914</td>\n",
       "    </tr>\n",
       "  </tbody>\n",
       "</table>\n",
       "</div>"
      ],
      "text/plain": [
       "   Unnamed: 0         x1        x2         x3         x4          y\n",
       "0           1   7.331693  9.660958  -2.981869   5.214284  -2.311878\n",
       "1           2  16.888609  9.546231  18.440459  11.804018   0.994307\n",
       "2           3   8.280643  6.442062  -0.225791   6.493211  -5.253876\n",
       "3           4   3.827778  3.741506  -2.850664  -0.226420  20.056798\n",
       "4           5   9.675971  4.385008   8.344576   5.979043   9.577914"
      ]
     },
     "metadata": {},
     "output_type": "display_data"
    }
   ],
   "source": [
    "display(df.head())"
   ]
  },
  {
   "cell_type": "code",
   "execution_count": 7,
   "id": "bab9c502",
   "metadata": {},
   "outputs": [
    {
     "name": "stdout",
     "output_type": "stream",
     "text": [
      "Feature correlations with target (y):\n"
     ]
    },
    {
     "data": {
      "text/plain": [
       "x3            0.432279\n",
       "x1            0.005234\n",
       "Unnamed: 0   -0.021411\n",
       "x2           -0.471165\n",
       "x4           -0.524394\n",
       "Name: y, dtype: float64"
      ]
     },
     "metadata": {},
     "output_type": "display_data"
    }
   ],
   "source": [
    "correlation = df.corr()['y'].drop('y').sort_values(ascending=False)\n",
    "print(\"Feature correlations with target (y):\")\n",
    "display(correlation)"
   ]
  },
  {
   "cell_type": "code",
   "execution_count": 8,
   "id": "841ed678",
   "metadata": {},
   "outputs": [
    {
     "name": "stdout",
     "output_type": "stream",
     "text": [
      "Best predictor: x4\n"
     ]
    }
   ],
   "source": [
    "best_feature = correlation.abs().idxmax()\n",
    "print(f\"Best predictor: {best_feature}\")"
   ]
  },
  {
   "cell_type": "code",
   "execution_count": 9,
   "id": "42613a14",
   "metadata": {},
   "outputs": [],
   "source": [
    "X = df[[best_feature]]\n",
    "y = df['y']"
   ]
  },
  {
   "cell_type": "code",
   "execution_count": 10,
   "id": "a0d3e2be",
   "metadata": {},
   "outputs": [],
   "source": [
    "X_train, X_test, y_train, y_test = train_test_split(X, y, test_size=0.2, random_state=42)"
   ]
  },
  {
   "cell_type": "code",
   "execution_count": 11,
   "id": "438fb8dd",
   "metadata": {},
   "outputs": [
    {
     "data": {
      "text/html": [
       "<style>#sk-container-id-1 {color: black;}#sk-container-id-1 pre{padding: 0;}#sk-container-id-1 div.sk-toggleable {background-color: white;}#sk-container-id-1 label.sk-toggleable__label {cursor: pointer;display: block;width: 100%;margin-bottom: 0;padding: 0.3em;box-sizing: border-box;text-align: center;}#sk-container-id-1 label.sk-toggleable__label-arrow:before {content: \"▸\";float: left;margin-right: 0.25em;color: #696969;}#sk-container-id-1 label.sk-toggleable__label-arrow:hover:before {color: black;}#sk-container-id-1 div.sk-estimator:hover label.sk-toggleable__label-arrow:before {color: black;}#sk-container-id-1 div.sk-toggleable__content {max-height: 0;max-width: 0;overflow: hidden;text-align: left;background-color: #f0f8ff;}#sk-container-id-1 div.sk-toggleable__content pre {margin: 0.2em;color: black;border-radius: 0.25em;background-color: #f0f8ff;}#sk-container-id-1 input.sk-toggleable__control:checked~div.sk-toggleable__content {max-height: 200px;max-width: 100%;overflow: auto;}#sk-container-id-1 input.sk-toggleable__control:checked~label.sk-toggleable__label-arrow:before {content: \"▾\";}#sk-container-id-1 div.sk-estimator input.sk-toggleable__control:checked~label.sk-toggleable__label {background-color: #d4ebff;}#sk-container-id-1 div.sk-label input.sk-toggleable__control:checked~label.sk-toggleable__label {background-color: #d4ebff;}#sk-container-id-1 input.sk-hidden--visually {border: 0;clip: rect(1px 1px 1px 1px);clip: rect(1px, 1px, 1px, 1px);height: 1px;margin: -1px;overflow: hidden;padding: 0;position: absolute;width: 1px;}#sk-container-id-1 div.sk-estimator {font-family: monospace;background-color: #f0f8ff;border: 1px dotted black;border-radius: 0.25em;box-sizing: border-box;margin-bottom: 0.5em;}#sk-container-id-1 div.sk-estimator:hover {background-color: #d4ebff;}#sk-container-id-1 div.sk-parallel-item::after {content: \"\";width: 100%;border-bottom: 1px solid gray;flex-grow: 1;}#sk-container-id-1 div.sk-label:hover label.sk-toggleable__label {background-color: #d4ebff;}#sk-container-id-1 div.sk-serial::before {content: \"\";position: absolute;border-left: 1px solid gray;box-sizing: border-box;top: 0;bottom: 0;left: 50%;z-index: 0;}#sk-container-id-1 div.sk-serial {display: flex;flex-direction: column;align-items: center;background-color: white;padding-right: 0.2em;padding-left: 0.2em;position: relative;}#sk-container-id-1 div.sk-item {position: relative;z-index: 1;}#sk-container-id-1 div.sk-parallel {display: flex;align-items: stretch;justify-content: center;background-color: white;position: relative;}#sk-container-id-1 div.sk-item::before, #sk-container-id-1 div.sk-parallel-item::before {content: \"\";position: absolute;border-left: 1px solid gray;box-sizing: border-box;top: 0;bottom: 0;left: 50%;z-index: -1;}#sk-container-id-1 div.sk-parallel-item {display: flex;flex-direction: column;z-index: 1;position: relative;background-color: white;}#sk-container-id-1 div.sk-parallel-item:first-child::after {align-self: flex-end;width: 50%;}#sk-container-id-1 div.sk-parallel-item:last-child::after {align-self: flex-start;width: 50%;}#sk-container-id-1 div.sk-parallel-item:only-child::after {width: 0;}#sk-container-id-1 div.sk-dashed-wrapped {border: 1px dashed gray;margin: 0 0.4em 0.5em 0.4em;box-sizing: border-box;padding-bottom: 0.4em;background-color: white;}#sk-container-id-1 div.sk-label label {font-family: monospace;font-weight: bold;display: inline-block;line-height: 1.2em;}#sk-container-id-1 div.sk-label-container {text-align: center;}#sk-container-id-1 div.sk-container {/* jupyter's `normalize.less` sets `[hidden] { display: none; }` but bootstrap.min.css set `[hidden] { display: none !important; }` so we also need the `!important` here to be able to override the default hidden behavior on the sphinx rendered scikit-learn.org. See: https://github.com/scikit-learn/scikit-learn/issues/21755 */display: inline-block !important;position: relative;}#sk-container-id-1 div.sk-text-repr-fallback {display: none;}</style><div id=\"sk-container-id-1\" class=\"sk-top-container\"><div class=\"sk-text-repr-fallback\"><pre>LinearRegression()</pre><b>In a Jupyter environment, please rerun this cell to show the HTML representation or trust the notebook. <br />On GitHub, the HTML representation is unable to render, please try loading this page with nbviewer.org.</b></div><div class=\"sk-container\" hidden><div class=\"sk-item\"><div class=\"sk-estimator sk-toggleable\"><input class=\"sk-toggleable__control sk-hidden--visually\" id=\"sk-estimator-id-1\" type=\"checkbox\" checked><label for=\"sk-estimator-id-1\" class=\"sk-toggleable__label sk-toggleable__label-arrow\">LinearRegression</label><div class=\"sk-toggleable__content\"><pre>LinearRegression()</pre></div></div></div></div></div>"
      ],
      "text/plain": [
       "LinearRegression()"
      ]
     },
     "execution_count": 11,
     "metadata": {},
     "output_type": "execute_result"
    }
   ],
   "source": [
    "model = LinearRegression()\n",
    "model.fit(X_train, y_train)"
   ]
  },
  {
   "cell_type": "code",
   "execution_count": 12,
   "id": "f137c817",
   "metadata": {},
   "outputs": [],
   "source": [
    "y_pred = model.predict(X_test)"
   ]
  },
  {
   "cell_type": "code",
   "execution_count": 13,
   "id": "3200b7ab",
   "metadata": {},
   "outputs": [
    {
     "name": "stdout",
     "output_type": "stream",
     "text": [
      "Mean Squared Error (MSE): 76.85266230805573\n",
      "R² Score: 0.2685542927902339\n"
     ]
    }
   ],
   "source": [
    "mse = mean_squared_error(y_test, y_pred)\n",
    "r2 = r2_score(y_test, y_pred)\n",
    "print(f\"Mean Squared Error (MSE): {mse}\")\n",
    "print(f\"R² Score: {r2}\")"
   ]
  },
  {
   "cell_type": "code",
   "execution_count": 14,
   "id": "b69e2bd3",
   "metadata": {},
   "outputs": [
    {
     "name": "stdout",
     "output_type": "stream",
     "text": [
      "Model saved as linear_regression_model.pkl\n"
     ]
    }
   ],
   "source": [
    "model_filename = \"linear_regression_model.pkl\"\n",
    "joblib.dump(model, model_filename)\n",
    "print(f\"Model saved as {model_filename}\")"
   ]
  },
  {
   "cell_type": "code",
   "execution_count": 15,
   "id": "d011b1a3",
   "metadata": {},
   "outputs": [],
   "source": [
    "train_data_filename = \"train_data.csv\"\n",
    "test_data_filename = \"test_data.csv\""
   ]
  },
  {
   "cell_type": "code",
   "execution_count": 16,
   "id": "759e9ae2",
   "metadata": {},
   "outputs": [],
   "source": [
    "train_data = pd.concat([X_train, y_train], axis=1)\n",
    "test_data = pd.concat([X_test, y_test], axis=1)"
   ]
  },
  {
   "cell_type": "code",
   "execution_count": 17,
   "id": "8935e227",
   "metadata": {},
   "outputs": [],
   "source": [
    "train_data.to_csv(train_data_filename, index=False)\n",
    "test_data.to_csv(test_data_filename, index=False)"
   ]
  },
  {
   "cell_type": "code",
   "execution_count": 18,
   "id": "d36b4b98",
   "metadata": {},
   "outputs": [
    {
     "name": "stdout",
     "output_type": "stream",
     "text": [
      "Training data saved as train_data.csv\n",
      "Testing data saved as test_data.csv\n"
     ]
    }
   ],
   "source": [
    "print(f\"Training data saved as {train_data_filename}\")\n",
    "print(f\"Testing data saved as {test_data_filename}\")"
   ]
  },
  {
   "cell_type": "markdown",
   "id": "4f01a7a6",
   "metadata": {},
   "source": [
    "1.c Create a new model with 2 X’s. Use proper version control to designate this model as\n",
    "the current model while still have the previous model as accessible."
   ]
  },
  {
   "cell_type": "code",
   "execution_count": 19,
   "id": "cdd45302",
   "metadata": {},
   "outputs": [
    {
     "name": "stdout",
     "output_type": "stream",
     "text": [
      "<class 'pandas.core.frame.DataFrame'>\n",
      "RangeIndex: 5394 entries, 0 to 5393\n",
      "Data columns (total 6 columns):\n",
      " #   Column      Non-Null Count  Dtype  \n",
      "---  ------      --------------  -----  \n",
      " 0   Unnamed: 0  5394 non-null   int64  \n",
      " 1   x1          5394 non-null   float64\n",
      " 2   x2          5394 non-null   float64\n",
      " 3   x3          5394 non-null   float64\n",
      " 4   x4          5394 non-null   float64\n",
      " 5   y           5394 non-null   float64\n",
      "dtypes: float64(5), int64(1)\n",
      "memory usage: 253.0 KB\n"
     ]
    },
    {
     "data": {
      "text/plain": [
       "None"
      ]
     },
     "metadata": {},
     "output_type": "display_data"
    },
    {
     "data": {
      "text/html": [
       "<div>\n",
       "<style scoped>\n",
       "    .dataframe tbody tr th:only-of-type {\n",
       "        vertical-align: middle;\n",
       "    }\n",
       "\n",
       "    .dataframe tbody tr th {\n",
       "        vertical-align: top;\n",
       "    }\n",
       "\n",
       "    .dataframe thead th {\n",
       "        text-align: right;\n",
       "    }\n",
       "</style>\n",
       "<table border=\"1\" class=\"dataframe\">\n",
       "  <thead>\n",
       "    <tr style=\"text-align: right;\">\n",
       "      <th></th>\n",
       "      <th>Unnamed: 0</th>\n",
       "      <th>x1</th>\n",
       "      <th>x2</th>\n",
       "      <th>x3</th>\n",
       "      <th>x4</th>\n",
       "      <th>y</th>\n",
       "    </tr>\n",
       "  </thead>\n",
       "  <tbody>\n",
       "    <tr>\n",
       "      <th>count</th>\n",
       "      <td>5394.000000</td>\n",
       "      <td>5394.000000</td>\n",
       "      <td>5394.000000</td>\n",
       "      <td>5394.000000</td>\n",
       "      <td>5394.000000</td>\n",
       "      <td>5394.000000</td>\n",
       "    </tr>\n",
       "    <tr>\n",
       "      <th>mean</th>\n",
       "      <td>2697.500000</td>\n",
       "      <td>12.021683</td>\n",
       "      <td>8.167434</td>\n",
       "      <td>7.574040</td>\n",
       "      <td>3.591243</td>\n",
       "      <td>4.353384</td>\n",
       "    </tr>\n",
       "    <tr>\n",
       "      <th>std</th>\n",
       "      <td>1557.258007</td>\n",
       "      <td>5.868268</td>\n",
       "      <td>6.232803</td>\n",
       "      <td>9.368097</td>\n",
       "      <td>4.588720</td>\n",
       "      <td>10.714636</td>\n",
       "    </tr>\n",
       "    <tr>\n",
       "      <th>min</th>\n",
       "      <td>1.000000</td>\n",
       "      <td>-12.026544</td>\n",
       "      <td>-16.040464</td>\n",
       "      <td>-26.311984</td>\n",
       "      <td>-12.455868</td>\n",
       "      <td>-34.466644</td>\n",
       "    </tr>\n",
       "    <tr>\n",
       "      <th>25%</th>\n",
       "      <td>1349.250000</td>\n",
       "      <td>8.168341</td>\n",
       "      <td>3.971380</td>\n",
       "      <td>1.452189</td>\n",
       "      <td>0.403797</td>\n",
       "      <td>-2.885133</td>\n",
       "    </tr>\n",
       "    <tr>\n",
       "      <th>50%</th>\n",
       "      <td>2697.500000</td>\n",
       "      <td>12.022236</td>\n",
       "      <td>8.210973</td>\n",
       "      <td>7.645897</td>\n",
       "      <td>3.564580</td>\n",
       "      <td>4.563703</td>\n",
       "    </tr>\n",
       "    <tr>\n",
       "      <th>75%</th>\n",
       "      <td>4045.750000</td>\n",
       "      <td>15.923815</td>\n",
       "      <td>12.306448</td>\n",
       "      <td>13.914808</td>\n",
       "      <td>6.784039</td>\n",
       "      <td>11.482432</td>\n",
       "    </tr>\n",
       "    <tr>\n",
       "      <th>max</th>\n",
       "      <td>5394.000000</td>\n",
       "      <td>31.833649</td>\n",
       "      <td>30.542882</td>\n",
       "      <td>39.652579</td>\n",
       "      <td>19.165572</td>\n",
       "      <td>45.056655</td>\n",
       "    </tr>\n",
       "  </tbody>\n",
       "</table>\n",
       "</div>"
      ],
      "text/plain": [
       "        Unnamed: 0           x1           x2           x3           x4  \\\n",
       "count  5394.000000  5394.000000  5394.000000  5394.000000  5394.000000   \n",
       "mean   2697.500000    12.021683     8.167434     7.574040     3.591243   \n",
       "std    1557.258007     5.868268     6.232803     9.368097     4.588720   \n",
       "min       1.000000   -12.026544   -16.040464   -26.311984   -12.455868   \n",
       "25%    1349.250000     8.168341     3.971380     1.452189     0.403797   \n",
       "50%    2697.500000    12.022236     8.210973     7.645897     3.564580   \n",
       "75%    4045.750000    15.923815    12.306448    13.914808     6.784039   \n",
       "max    5394.000000    31.833649    30.542882    39.652579    19.165572   \n",
       "\n",
       "                 y  \n",
       "count  5394.000000  \n",
       "mean      4.353384  \n",
       "std      10.714636  \n",
       "min     -34.466644  \n",
       "25%      -2.885133  \n",
       "50%       4.563703  \n",
       "75%      11.482432  \n",
       "max      45.056655  "
      ]
     },
     "metadata": {},
     "output_type": "display_data"
    },
    {
     "data": {
      "text/html": [
       "<div>\n",
       "<style scoped>\n",
       "    .dataframe tbody tr th:only-of-type {\n",
       "        vertical-align: middle;\n",
       "    }\n",
       "\n",
       "    .dataframe tbody tr th {\n",
       "        vertical-align: top;\n",
       "    }\n",
       "\n",
       "    .dataframe thead th {\n",
       "        text-align: right;\n",
       "    }\n",
       "</style>\n",
       "<table border=\"1\" class=\"dataframe\">\n",
       "  <thead>\n",
       "    <tr style=\"text-align: right;\">\n",
       "      <th></th>\n",
       "      <th>Unnamed: 0</th>\n",
       "      <th>x1</th>\n",
       "      <th>x2</th>\n",
       "      <th>x3</th>\n",
       "      <th>x4</th>\n",
       "      <th>y</th>\n",
       "    </tr>\n",
       "  </thead>\n",
       "  <tbody>\n",
       "    <tr>\n",
       "      <th>0</th>\n",
       "      <td>1</td>\n",
       "      <td>7.331693</td>\n",
       "      <td>9.660958</td>\n",
       "      <td>-2.981869</td>\n",
       "      <td>5.214284</td>\n",
       "      <td>-2.311878</td>\n",
       "    </tr>\n",
       "    <tr>\n",
       "      <th>1</th>\n",
       "      <td>2</td>\n",
       "      <td>16.888609</td>\n",
       "      <td>9.546231</td>\n",
       "      <td>18.440459</td>\n",
       "      <td>11.804018</td>\n",
       "      <td>0.994307</td>\n",
       "    </tr>\n",
       "    <tr>\n",
       "      <th>2</th>\n",
       "      <td>3</td>\n",
       "      <td>8.280643</td>\n",
       "      <td>6.442062</td>\n",
       "      <td>-0.225791</td>\n",
       "      <td>6.493211</td>\n",
       "      <td>-5.253876</td>\n",
       "    </tr>\n",
       "    <tr>\n",
       "      <th>3</th>\n",
       "      <td>4</td>\n",
       "      <td>3.827778</td>\n",
       "      <td>3.741506</td>\n",
       "      <td>-2.850664</td>\n",
       "      <td>-0.226420</td>\n",
       "      <td>20.056798</td>\n",
       "    </tr>\n",
       "    <tr>\n",
       "      <th>4</th>\n",
       "      <td>5</td>\n",
       "      <td>9.675971</td>\n",
       "      <td>4.385008</td>\n",
       "      <td>8.344576</td>\n",
       "      <td>5.979043</td>\n",
       "      <td>9.577914</td>\n",
       "    </tr>\n",
       "  </tbody>\n",
       "</table>\n",
       "</div>"
      ],
      "text/plain": [
       "   Unnamed: 0         x1        x2         x3         x4          y\n",
       "0           1   7.331693  9.660958  -2.981869   5.214284  -2.311878\n",
       "1           2  16.888609  9.546231  18.440459  11.804018   0.994307\n",
       "2           3   8.280643  6.442062  -0.225791   6.493211  -5.253876\n",
       "3           4   3.827778  3.741506  -2.850664  -0.226420  20.056798\n",
       "4           5   9.675971  4.385008   8.344576   5.979043   9.577914"
      ]
     },
     "metadata": {},
     "output_type": "display_data"
    },
    {
     "name": "stdout",
     "output_type": "stream",
     "text": [
      "Feature correlations with target (y):\n"
     ]
    },
    {
     "data": {
      "text/plain": [
       "x3            0.432279\n",
       "x1            0.005234\n",
       "Unnamed: 0   -0.021411\n",
       "x2           -0.471165\n",
       "x4           -0.524394\n",
       "Name: y, dtype: float64"
      ]
     },
     "metadata": {},
     "output_type": "display_data"
    },
    {
     "name": "stdout",
     "output_type": "stream",
     "text": [
      "Best predictors: ['x4', 'x2']\n",
      "Mean Squared Error (MSE): 53.621132028750594\n",
      "R² Score: 0.4896605314602541\n",
      "Previous model saved as linear_regression_model_v1.pkl\n",
      "Current model saved as linear_regression_model_v2.pkl\n",
      "Training data saved as train_data_v2.csv\n",
      "Testing data saved as test_data_v2.csv\n"
     ]
    }
   ],
   "source": [
    "import pandas as pd\n",
    "import numpy as np\n",
    "import matplotlib.pyplot as plt\n",
    "import seaborn as sns\n",
    "from sklearn.model_selection import train_test_split\n",
    "from sklearn.linear_model import LinearRegression\n",
    "from sklearn.metrics import mean_squared_error, r2_score\n",
    "import joblib\n",
    "\n",
    "file_path = \"sampregdata.csv\"  \n",
    "df = pd.read_csv(file_path)\n",
    "\n",
    "display(df.info())\n",
    "display(df.describe())\n",
    "display(df.head())\n",
    "\n",
    "correlation = df.corr()['y'].drop('y').sort_values(ascending=False)\n",
    "print(\"Feature correlations with target (y):\")\n",
    "display(correlation)\n",
    "\n",
    "best_features = correlation.abs().nlargest(2).index.tolist()\n",
    "print(f\"Best predictors: {best_features}\")\n",
    "\n",
    "X = df[best_features]\n",
    "y = df['y']\n",
    "\n",
    "X_train, X_test, y_train, y_test = train_test_split(X, y, test_size=0.2, random_state=42)\n",
    "\n",
    "model = LinearRegression()\n",
    "model.fit(X_train, y_train)\n",
    "\n",
    "y_pred = model.predict(X_test)\n",
    "\n",
    "mse = mean_squared_error(y_test, y_pred)\n",
    "r2 = r2_score(y_test, y_pred)\n",
    "print(f\"Mean Squared Error (MSE): {mse}\")\n",
    "print(f\"R² Score: {r2}\")\n",
    "\n",
    "previous_model_filename = \"linear_regression_model_v1.pkl\"\n",
    "joblib.dump(model, previous_model_filename)\n",
    "print(f\"Previous model saved as {previous_model_filename}\")\n",
    "\n",
    "current_model_filename = \"linear_regression_model_v2.pkl\"\n",
    "joblib.dump(model, current_model_filename)\n",
    "print(f\"Current model saved as {current_model_filename}\")\n",
    "\n",
    "train_data_filename = \"train_data_v2.csv\"\n",
    "test_data_filename = \"test_data_v2.csv\"\n",
    "\n",
    "train_data = pd.concat([X_train, y_train], axis=1)\n",
    "test_data = pd.concat([X_test, y_test], axis=1)\n",
    "\n",
    "train_data.to_csv(train_data_filename, index=False)\n",
    "test_data.to_csv(test_data_filename, index=False)\n",
    "\n",
    "print(f\"Training data saved as {train_data_filename}\")\n",
    "print(f\"Testing data saved as {test_data_filename}\")\n"
   ]
  }
 ],
 "metadata": {
  "kernelspec": {
   "display_name": "Python 3 (ipykernel)",
   "language": "python",
   "name": "python3"
  },
  "language_info": {
   "codemirror_mode": {
    "name": "ipython",
    "version": 3
   },
   "file_extension": ".py",
   "mimetype": "text/x-python",
   "name": "python",
   "nbconvert_exporter": "python",
   "pygments_lexer": "ipython3",
   "version": "3.11.5"
  }
 },
 "nbformat": 4,
 "nbformat_minor": 5
}
